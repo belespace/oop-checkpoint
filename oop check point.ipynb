{
 "cells": [
  {
   "cell_type": "code",
   "execution_count": 3,
   "id": "3a88d597",
   "metadata": {},
   "outputs": [],
   "source": [
    "class point3d:\n",
    "    def __init__(self,x,y,z):\n",
    "        self.x=x\n",
    "        self.y=y\n",
    "        self.z=z\n",
    "    def cord (self):\n",
    "        print(self.x,self.y,self.z)"
   ]
  },
  {
   "cell_type": "code",
   "execution_count": 4,
   "id": "80228320",
   "metadata": {},
   "outputs": [],
   "source": [
    "poinn=point3d(1,2,3)"
   ]
  },
  {
   "cell_type": "code",
   "execution_count": 13,
   "id": "6491198a",
   "metadata": {},
   "outputs": [
    {
     "name": "stdout",
     "output_type": "stream",
     "text": [
      "12\n",
      "14\n"
     ]
    }
   ],
   "source": [
    "class rectangle():\n",
    "    def __init__(self, l, w):\n",
    "        self.lentgh = l\n",
    "        self.width  = w\n",
    "        \n",
    "    def rectangle_area(self):\n",
    "        return self.lentgh*self.width\n",
    "    \n",
    "    def rectangle_perimeter(self):\n",
    "        return(self.lentgh+self.width)*2\n",
    "newrectangle = rectangle(4,3)\n",
    "print(newrectangle.rectangle_area())\n",
    "print(newrectangle.rectangle_perimeter())\n",
    "\n"
   ]
  },
  {
   "cell_type": "code",
   "execution_count": 25,
   "id": "fe60a56b",
   "metadata": {},
   "outputs": [],
   "source": [
    "class cirle():\n",
    "    def __init__(self,xo,yo,r):\n",
    "        self.center_x = xo\n",
    "        self.center_y = yo\n",
    "        self.rayon = r \n",
    "    def area(self):\n",
    "        return self.rayon*self.rayon*3.14\n",
    "    def perimeter(self):\n",
    "        return (2*self.rayon*3.14)"
   ]
  },
  {
   "cell_type": "code",
   "execution_count": 31,
   "id": "19dc2caa",
   "metadata": {},
   "outputs": [],
   "source": [
    "cercle1=cirle(0,0,3)"
   ]
  },
  {
   "cell_type": "code",
   "execution_count": 32,
   "id": "8535e042",
   "metadata": {},
   "outputs": [
    {
     "data": {
      "text/plain": [
       "28.26"
      ]
     },
     "execution_count": 32,
     "metadata": {},
     "output_type": "execute_result"
    }
   ],
   "source": [
    "cercle1.area()"
   ]
  },
  {
   "cell_type": "code",
   "execution_count": 33,
   "id": "885c12ef",
   "metadata": {},
   "outputs": [
    {
     "data": {
      "text/plain": [
       "18.84"
      ]
     },
     "execution_count": 33,
     "metadata": {},
     "output_type": "execute_result"
    }
   ],
   "source": [
    "cercle1.perimeter()\n"
   ]
  },
  {
   "cell_type": "code",
   "execution_count": 11,
   "id": "303469e6",
   "metadata": {},
   "outputs": [],
   "source": [
    "class bank():\n",
    "    def __init__(self,balance):\n",
    "        self.balance=balance\n",
    "    def deposit(self,some):\n",
    "        self.balance=self.balance+some\n",
    "        return(self.balance)\n",
    "    def withdraw(self,some):\n",
    "        self.balance=self.balance-some\n",
    "        return(self.balance)"
   ]
  },
  {
   "cell_type": "code",
   "execution_count": 12,
   "id": "d03c821a",
   "metadata": {},
   "outputs": [],
   "source": [
    "account=bank(2000)"
   ]
  },
  {
   "cell_type": "code",
   "execution_count": 13,
   "id": "e67c23eb",
   "metadata": {},
   "outputs": [
    {
     "data": {
      "text/plain": [
       "2000"
      ]
     },
     "execution_count": 13,
     "metadata": {},
     "output_type": "execute_result"
    }
   ],
   "source": [
    "account.balance"
   ]
  },
  {
   "cell_type": "code",
   "execution_count": 14,
   "id": "b4ef45ac",
   "metadata": {},
   "outputs": [
    {
     "data": {
      "text/plain": [
       "2200"
      ]
     },
     "execution_count": 14,
     "metadata": {},
     "output_type": "execute_result"
    }
   ],
   "source": [
    "account.deposit(200)"
   ]
  },
  {
   "cell_type": "code",
   "execution_count": 15,
   "id": "a80e041e",
   "metadata": {},
   "outputs": [
    {
     "data": {
      "text/plain": [
       "1900"
      ]
     },
     "execution_count": 15,
     "metadata": {},
     "output_type": "execute_result"
    }
   ],
   "source": [
    "account.withdraw(300)"
   ]
  },
  {
   "cell_type": "code",
   "execution_count": null,
   "id": "d58f430e",
   "metadata": {},
   "outputs": [],
   "source": []
  }
 ],
 "metadata": {
  "kernelspec": {
   "display_name": "Python 3 (ipykernel)",
   "language": "python",
   "name": "python3"
  },
  "language_info": {
   "codemirror_mode": {
    "name": "ipython",
    "version": 3
   },
   "file_extension": ".py",
   "mimetype": "text/x-python",
   "name": "python",
   "nbconvert_exporter": "python",
   "pygments_lexer": "ipython3",
   "version": "3.9.7"
  }
 },
 "nbformat": 4,
 "nbformat_minor": 5
}
